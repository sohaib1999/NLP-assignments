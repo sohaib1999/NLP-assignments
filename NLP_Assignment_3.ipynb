{
  "nbformat": 4,
  "nbformat_minor": 0,
  "metadata": {
    "colab": {
      "name": "NLP_Assignment_3.ipynb",
      "provenance": [],
      "collapsed_sections": [],
      "include_colab_link": true
    },
    "kernelspec": {
      "name": "python3",
      "display_name": "Python 3"
    }
  },
  "cells": [
    {
      "cell_type": "markdown",
      "metadata": {
        "id": "view-in-github",
        "colab_type": "text"
      },
      "source": [
        "<a href=\"https://colab.research.google.com/github/sohaib1999/NLP-assignments/blob/master/NLP_Assignment_3.ipynb\" target=\"_parent\"><img src=\"https://colab.research.google.com/assets/colab-badge.svg\" alt=\"Open In Colab\"/></a>"
      ]
    },
    {
      "cell_type": "code",
      "metadata": {
        "id": "GlYMYvsgvRWv",
        "colab_type": "code",
        "colab": {
          "base_uri": "https://localhost:8080/",
          "height": 1000
        },
        "outputId": "d3c9cd67-e2d1-4641-c3f4-2e88661b477f"
      },
      "source": [
        "pip install earthpy"
      ],
      "execution_count": 19,
      "outputs": [
        {
          "output_type": "stream",
          "text": [
            "Collecting earthpy\n",
            "\u001b[?25l  Downloading https://files.pythonhosted.org/packages/2d/ee/30cd183c5b58c967ec52bb3bd8decc0a1798f15c94898b84e6ee6b0baa39/earthpy-0.9.2.tar.gz (1.4MB)\n",
            "\u001b[K     |████████████████████████████████| 1.4MB 2.7MB/s \n",
            "\u001b[?25h  Installing build dependencies ... \u001b[?25l\u001b[?25hdone\n",
            "  Getting requirements to build wheel ... \u001b[?25l\u001b[?25hdone\n",
            "    Preparing wheel metadata ... \u001b[?25l\u001b[?25hdone\n",
            "Collecting geopandas\n",
            "\u001b[?25l  Downloading https://files.pythonhosted.org/packages/f7/a4/e66aafbefcbb717813bf3a355c8c4fc3ed04ea1dd7feb2920f2f4f868921/geopandas-0.8.1-py2.py3-none-any.whl (962kB)\n",
            "\u001b[K     |████████████████████████████████| 972kB 17.9MB/s \n",
            "\u001b[?25hCollecting rasterio\n",
            "\u001b[?25l  Downloading https://files.pythonhosted.org/packages/02/7e/eed7dfd109fc89ed3cf8b5ed3f26f841b03b92f6ca1c31c4745f938a081b/rasterio-1.1.5-cp36-cp36m-manylinux1_x86_64.whl (18.2MB)\n",
            "\u001b[K     |████████████████████████████████| 18.2MB 1.5MB/s \n",
            "\u001b[?25hRequirement already satisfied: requests in /usr/local/lib/python3.6/dist-packages (from earthpy) (2.23.0)\n",
            "Requirement already satisfied: matplotlib>=2.0.0 in /usr/local/lib/python3.6/dist-packages (from earthpy) (3.2.2)\n",
            "Requirement already satisfied: numpy>=1.14.0 in /usr/local/lib/python3.6/dist-packages (from earthpy) (1.18.5)\n",
            "Requirement already satisfied: scikit-image in /usr/local/lib/python3.6/dist-packages (from earthpy) (0.16.2)\n",
            "Collecting pyproj>=2.2.0\n",
            "\u001b[?25l  Downloading https://files.pythonhosted.org/packages/e5/c3/071e080230ac4b6c64f1a2e2f9161c9737a2bc7b683d2c90b024825000c0/pyproj-2.6.1.post1-cp36-cp36m-manylinux2010_x86_64.whl (10.9MB)\n",
            "\u001b[K     |████████████████████████████████| 10.9MB 21.0MB/s \n",
            "\u001b[?25hCollecting fiona\n",
            "\u001b[?25l  Downloading https://files.pythonhosted.org/packages/df/64/401a83297189682c7202f3da666bc1dd19054a7b03c8cd16b94c7ef37a5f/Fiona-1.8.16-cp36-cp36m-manylinux1_x86_64.whl (14.8MB)\n",
            "\u001b[K     |████████████████████████████████| 14.8MB 126kB/s \n",
            "\u001b[?25hRequirement already satisfied: pandas>=0.23.0 in /usr/local/lib/python3.6/dist-packages (from geopandas->earthpy) (1.0.5)\n",
            "Requirement already satisfied: shapely in /usr/local/lib/python3.6/dist-packages (from geopandas->earthpy) (1.7.1)\n",
            "Requirement already satisfied: click<8,>=4.0 in /usr/local/lib/python3.6/dist-packages (from rasterio->earthpy) (7.1.2)\n",
            "Collecting click-plugins\n",
            "  Downloading https://files.pythonhosted.org/packages/e9/da/824b92d9942f4e472702488857914bdd50f73021efea15b4cad9aca8ecef/click_plugins-1.1.1-py2.py3-none-any.whl\n",
            "Collecting cligj>=0.5\n",
            "  Downloading https://files.pythonhosted.org/packages/e4/be/30a58b4b0733850280d01f8bd132591b4668ed5c7046761098d665ac2174/cligj-0.5.0-py3-none-any.whl\n",
            "Collecting affine\n",
            "  Downloading https://files.pythonhosted.org/packages/ac/a6/1a39a1ede71210e3ddaf623982b06ecfc5c5c03741ae659073159184cd3e/affine-2.3.0-py2.py3-none-any.whl\n",
            "Collecting snuggs>=1.4.1\n",
            "  Downloading https://files.pythonhosted.org/packages/cc/0e/d27d6e806d6c0d1a2cfdc5d1f088e42339a0a54a09c3343f7f81ec8947ea/snuggs-1.4.7-py3-none-any.whl\n",
            "Requirement already satisfied: attrs in /usr/local/lib/python3.6/dist-packages (from rasterio->earthpy) (20.1.0)\n",
            "Requirement already satisfied: urllib3!=1.25.0,!=1.25.1,<1.26,>=1.21.1 in /usr/local/lib/python3.6/dist-packages (from requests->earthpy) (1.24.3)\n",
            "Requirement already satisfied: idna<3,>=2.5 in /usr/local/lib/python3.6/dist-packages (from requests->earthpy) (2.10)\n",
            "Requirement already satisfied: certifi>=2017.4.17 in /usr/local/lib/python3.6/dist-packages (from requests->earthpy) (2020.6.20)\n",
            "Requirement already satisfied: chardet<4,>=3.0.2 in /usr/local/lib/python3.6/dist-packages (from requests->earthpy) (3.0.4)\n",
            "Requirement already satisfied: cycler>=0.10 in /usr/local/lib/python3.6/dist-packages (from matplotlib>=2.0.0->earthpy) (0.10.0)\n",
            "Requirement already satisfied: python-dateutil>=2.1 in /usr/local/lib/python3.6/dist-packages (from matplotlib>=2.0.0->earthpy) (2.8.1)\n",
            "Requirement already satisfied: kiwisolver>=1.0.1 in /usr/local/lib/python3.6/dist-packages (from matplotlib>=2.0.0->earthpy) (1.2.0)\n",
            "Requirement already satisfied: pyparsing!=2.0.4,!=2.1.2,!=2.1.6,>=2.0.1 in /usr/local/lib/python3.6/dist-packages (from matplotlib>=2.0.0->earthpy) (2.4.7)\n",
            "Requirement already satisfied: imageio>=2.3.0 in /usr/local/lib/python3.6/dist-packages (from scikit-image->earthpy) (2.4.1)\n",
            "Requirement already satisfied: networkx>=2.0 in /usr/local/lib/python3.6/dist-packages (from scikit-image->earthpy) (2.5)\n",
            "Requirement already satisfied: pillow>=4.3.0 in /usr/local/lib/python3.6/dist-packages (from scikit-image->earthpy) (7.0.0)\n",
            "Requirement already satisfied: scipy>=0.19.0 in /usr/local/lib/python3.6/dist-packages (from scikit-image->earthpy) (1.4.1)\n",
            "Requirement already satisfied: PyWavelets>=0.4.0 in /usr/local/lib/python3.6/dist-packages (from scikit-image->earthpy) (1.1.1)\n",
            "Collecting munch\n",
            "  Downloading https://files.pythonhosted.org/packages/cc/ab/85d8da5c9a45e072301beb37ad7f833cd344e04c817d97e0cc75681d248f/munch-2.5.0-py2.py3-none-any.whl\n",
            "Requirement already satisfied: six>=1.7 in /usr/local/lib/python3.6/dist-packages (from fiona->geopandas->earthpy) (1.15.0)\n",
            "Requirement already satisfied: pytz>=2017.2 in /usr/local/lib/python3.6/dist-packages (from pandas>=0.23.0->geopandas->earthpy) (2018.9)\n",
            "Requirement already satisfied: decorator>=4.3.0 in /usr/local/lib/python3.6/dist-packages (from networkx>=2.0->scikit-image->earthpy) (4.4.2)\n",
            "Building wheels for collected packages: earthpy\n",
            "  Building wheel for earthpy (PEP 517) ... \u001b[?25l\u001b[?25hdone\n",
            "  Created wheel for earthpy: filename=earthpy-0.9.2-cp36-none-any.whl size=1365088 sha256=a4871abe8770c6c17a2b8c66185f22e65b981eda4ab70df75ffdf759ef361012\n",
            "  Stored in directory: /root/.cache/pip/wheels/27/f9/a5/026bb95ef7b12f9343b842da6897b4001c5b902550095cbbbe\n",
            "Successfully built earthpy\n",
            "Installing collected packages: pyproj, click-plugins, munch, cligj, fiona, geopandas, affine, snuggs, rasterio, earthpy\n",
            "Successfully installed affine-2.3.0 click-plugins-1.1.1 cligj-0.5.0 earthpy-0.9.2 fiona-1.8.16 geopandas-0.8.1 munch-2.5.0 pyproj-2.6.1.post1 rasterio-1.1.5 snuggs-1.4.7\n"
          ],
          "name": "stdout"
        }
      ]
    },
    {
      "cell_type": "code",
      "metadata": {
        "id": "ztR_wwiM-tKI",
        "colab_type": "code",
        "colab": {
          "base_uri": "https://localhost:8080/",
          "height": 34
        },
        "outputId": "3b4b6252-8c97-4e5c-9d86-65ef3d456141"
      },
      "source": [
        "import os\n",
        "import pandas as pd\n",
        "import matplotlib.pyplot as plt\n",
        "import seaborn as sns\n",
        "import itertools\n",
        "import collections\n",
        "\n",
        "import json\n",
        "import tweepy as tw\n",
        "import nltk\n",
        "from nltk.corpus import stopwords\n",
        "from nltk import bigrams\n",
        "import re\n",
        "from textblob import TextBlob\n",
        "import networkx\n",
        "import networkx as nx\n",
        "import earthpy as et\n",
        "\n",
        "import warnings\n",
        "warnings.filterwarnings(\"ignore\")\n",
        "\n",
        "sns.set(font_scale=1.5)\n",
        "sns.set_style(\"whitegrid\")\n",
        "\n",
        "# get the already collected twitter data in JSON format\n",
        "et.data.get_data('twitter-flood')\n",
        "\n",
        "# Sets working directory\n",
        "os.chdir(os.path.join(et.io.HOME, 'earth-analytics', 'data'))"
      ],
      "execution_count": 20,
      "outputs": [
        {
          "output_type": "stream",
          "text": [
            "Downloading from https://ndownloader.figshare.com/files/10960175\n"
          ],
          "name": "stdout"
        }
      ]
    },
    {
      "cell_type": "code",
      "metadata": {
        "id": "bCaPwMVq_xn8",
        "colab_type": "code",
        "colab": {
          "base_uri": "https://localhost:8080/",
          "height": 35
        },
        "outputId": "ef0915c0-353e-40e8-b69c-ba03acc608e4"
      },
      "source": [
        "flood_tweets_path = os.path.join(\"twitter-flood\", \"boulder_flood_geolocated_tweets.json\")\n",
        "flood_tweets_path"
      ],
      "execution_count": 21,
      "outputs": [
        {
          "output_type": "execute_result",
          "data": {
            "application/vnd.google.colaboratory.intrinsic+json": {
              "type": "string"
            },
            "text/plain": [
              "'twitter-flood/boulder_flood_geolocated_tweets.json'"
            ]
          },
          "metadata": {
            "tags": []
          },
          "execution_count": 21
        }
      ]
    },
    {
      "cell_type": "code",
      "metadata": {
        "id": "OJC12A4TCSU-",
        "colab_type": "code",
        "colab": {
          "base_uri": "https://localhost:8080/",
          "height": 1000
        },
        "outputId": "fcb34c8e-1727-4a40-cd86-dda6c63bc7b1"
      },
      "source": [
        "# Loop through each tweet in the JSON file & append it to a list\n",
        "flood_tweets = []\n",
        "for line in open(flood_tweets_path, 'r'):\n",
        "    flood_tweets.append(json.loads(line))\n",
        "\n",
        "# View a single tweet in uour list.\n",
        "flood_tweets[1]"
      ],
      "execution_count": 23,
      "outputs": [
        {
          "output_type": "execute_result",
          "data": {
            "text/plain": [
              "{'contributors': None,\n",
              " 'coordinates': None,\n",
              " 'created_at': 'Tue Dec 31 18:49:31 +0000 2013',\n",
              " 'entities': {'hashtags': [{'indices': [108, 113], 'text': 'snow'},\n",
              "   {'indices': [114, 119], 'text': 'COwx'},\n",
              "   {'indices': [120, 128], 'text': 'weather'},\n",
              "   {'indices': [129, 136], 'text': 'Denver'}],\n",
              "  'symbols': [],\n",
              "  'urls': [],\n",
              "  'user_mentions': [{'id': 1214463582,\n",
              "    'id_str': '1214463582',\n",
              "    'indices': [0, 14],\n",
              "    'name': 'WeatherDude',\n",
              "    'screen_name': 'WeatherDude17'}]},\n",
              " 'favorite_count': 0,\n",
              " 'favorited': False,\n",
              " 'geo': None,\n",
              " 'id': 418091565161017345,\n",
              " 'id_str': '418091565161017345',\n",
              " 'in_reply_to_screen_name': 'WeatherDude17',\n",
              " 'in_reply_to_status_id': 418091408994471937,\n",
              " 'in_reply_to_status_id_str': '418091408994471937',\n",
              " 'in_reply_to_user_id': 1214463582,\n",
              " 'in_reply_to_user_id_str': '1214463582',\n",
              " 'is_quote_status': False,\n",
              " 'lang': 'en',\n",
              " 'place': None,\n",
              " 'retweet_count': 0,\n",
              " 'retweeted': False,\n",
              " 'source': '<a href=\"https://about.twitter.com/products/tweetdeck\" rel=\"nofollow\">TweetDeck</a>',\n",
              " 'text': '@WeatherDude17 Not that revved up yet due to model inconsistency. I\\'d say 0-2\" w/ a decent chance of &gt;1\" #snow #COwx #weather #Denver',\n",
              " 'truncated': False,\n",
              " 'user': {'contributors_enabled': False,\n",
              "  'created_at': 'Fri Jul 09 23:15:25 +0000 2010',\n",
              "  'default_profile': True,\n",
              "  'default_profile_image': False,\n",
              "  'description': \"Bringing you weather information & forecasts for the Denver metro area and Colorado. Previously worked at NOAA's CPC & @capitalweather.\",\n",
              "  'entities': {'description': {'urls': []},\n",
              "   'url': {'urls': [{'display_url': 'weather5280.com',\n",
              "      'expanded_url': 'http://www.weather5280.com',\n",
              "      'indices': [0, 23],\n",
              "      'url': 'https://t.co/TFT5G0nnPh'}]}},\n",
              "  'favourites_count': 14777,\n",
              "  'follow_request_sent': False,\n",
              "  'followers_count': 2181,\n",
              "  'following': False,\n",
              "  'friends_count': 458,\n",
              "  'geo_enabled': True,\n",
              "  'has_extended_profile': False,\n",
              "  'id': 164856599,\n",
              "  'id_str': '164856599',\n",
              "  'is_translation_enabled': False,\n",
              "  'is_translator': False,\n",
              "  'lang': 'en',\n",
              "  'listed_count': 199,\n",
              "  'location': 'Denver, CO',\n",
              "  'name': 'Josh Larson',\n",
              "  'notifications': False,\n",
              "  'profile_background_color': 'C0DEED',\n",
              "  'profile_background_image_url': 'http://abs.twimg.com/images/themes/theme1/bg.png',\n",
              "  'profile_background_image_url_https': 'https://abs.twimg.com/images/themes/theme1/bg.png',\n",
              "  'profile_background_tile': False,\n",
              "  'profile_image_url': 'http://pbs.twimg.com/profile_images/910542678072238082/DYfwLSOF_normal.jpg',\n",
              "  'profile_image_url_https': 'https://pbs.twimg.com/profile_images/910542678072238082/DYfwLSOF_normal.jpg',\n",
              "  'profile_link_color': '1DA1F2',\n",
              "  'profile_sidebar_border_color': 'C0DEED',\n",
              "  'profile_sidebar_fill_color': 'DDEEF6',\n",
              "  'profile_text_color': '333333',\n",
              "  'profile_use_background_image': True,\n",
              "  'protected': False,\n",
              "  'screen_name': 'coloradowx',\n",
              "  'statuses_count': 18024,\n",
              "  'time_zone': 'Mountain Time (US & Canada)',\n",
              "  'translator_type': 'none',\n",
              "  'url': 'https://t.co/TFT5G0nnPh',\n",
              "  'utc_offset': -25200,\n",
              "  'verified': False}}"
            ]
          },
          "metadata": {
            "tags": []
          },
          "execution_count": 23
        }
      ]
    },
    {
      "cell_type": "code",
      "metadata": {
        "id": "AUkqqfYyCYmB",
        "colab_type": "code",
        "colab": {
          "base_uri": "https://localhost:8080/",
          "height": 34
        },
        "outputId": "49542a0a-a3e2-4f7e-86c4-7b95594dc7c3"
      },
      "source": [
        "type(flood_tweets[1])"
      ],
      "execution_count": 24,
      "outputs": [
        {
          "output_type": "execute_result",
          "data": {
            "text/plain": [
              "dict"
            ]
          },
          "metadata": {
            "tags": []
          },
          "execution_count": 24
        }
      ]
    },
    {
      "cell_type": "code",
      "metadata": {
        "id": "bGQgw2wUCdDf",
        "colab_type": "code",
        "colab": {
          "base_uri": "https://localhost:8080/",
          "height": 54
        },
        "outputId": "cecf339b-e3b6-48d8-da41-49928fe7a340"
      },
      "source": [
        "a_single_tweet = flood_tweets[1]\n",
        "a_single_tweet.keys()"
      ],
      "execution_count": 25,
      "outputs": [
        {
          "output_type": "execute_result",
          "data": {
            "text/plain": [
              "dict_keys(['created_at', 'id', 'id_str', 'text', 'truncated', 'entities', 'source', 'in_reply_to_status_id', 'in_reply_to_status_id_str', 'in_reply_to_user_id', 'in_reply_to_user_id_str', 'in_reply_to_screen_name', 'user', 'geo', 'coordinates', 'place', 'contributors', 'is_quote_status', 'retweet_count', 'favorite_count', 'favorited', 'retweeted', 'lang'])"
            ]
          },
          "metadata": {
            "tags": []
          },
          "execution_count": 25
        }
      ]
    },
    {
      "cell_type": "code",
      "metadata": {
        "id": "NyyTv67zCdO6",
        "colab_type": "code",
        "colab": {
          "base_uri": "https://localhost:8080/",
          "height": 35
        },
        "outputId": "710626aa-c50d-4ab9-e738-c9e75bd5c653"
      },
      "source": [
        "# View the created time stamp in dictionary\n",
        "a_single_tweet[\"created_at\"]"
      ],
      "execution_count": 26,
      "outputs": [
        {
          "output_type": "execute_result",
          "data": {
            "application/vnd.google.colaboratory.intrinsic+json": {
              "type": "string"
            },
            "text/plain": [
              "'Tue Dec 31 18:49:31 +0000 2013'"
            ]
          },
          "metadata": {
            "tags": []
          },
          "execution_count": 26
        }
      ]
    },
    {
      "cell_type": "code",
      "metadata": {
        "id": "7PRc5WJzCdUO",
        "colab_type": "code",
        "colab": {
          "base_uri": "https://localhost:8080/",
          "height": 85
        },
        "outputId": "7feedc4a-7918-4fdb-f4c6-a5d3af99a406"
      },
      "source": [
        "a_single_tweet[\"entities\"][\"hashtags\"]"
      ],
      "execution_count": 27,
      "outputs": [
        {
          "output_type": "execute_result",
          "data": {
            "text/plain": [
              "[{'indices': [108, 113], 'text': 'snow'},\n",
              " {'indices': [114, 119], 'text': 'COwx'},\n",
              " {'indices': [120, 128], 'text': 'weather'},\n",
              " {'indices': [129, 136], 'text': 'Denver'}]"
            ]
          },
          "metadata": {
            "tags": []
          },
          "execution_count": 27
        }
      ]
    },
    {
      "cell_type": "code",
      "metadata": {
        "id": "DNvlsy0CCdYU",
        "colab_type": "code",
        "colab": {
          "base_uri": "https://localhost:8080/",
          "height": 35
        },
        "outputId": "23056180-0989-408a-ea2e-a33f34eb518d"
      },
      "source": [
        "# Get the 2nd item in the list & it's associated hashtaf\n",
        "a_single_tweet[\"entities\"][\"hashtags\"][1][\"text\"]"
      ],
      "execution_count": 28,
      "outputs": [
        {
          "output_type": "execute_result",
          "data": {
            "application/vnd.google.colaboratory.intrinsic+json": {
              "type": "string"
            },
            "text/plain": [
              "'COwx'"
            ]
          },
          "metadata": {
            "tags": []
          },
          "execution_count": 28
        }
      ]
    },
    {
      "cell_type": "code",
      "metadata": {
        "id": "7_0dgaBECdb2",
        "colab_type": "code",
        "colab": {}
      },
      "source": [
        "def remove_url_punctuation(txt):\n",
        "    \"\"\"Replace URLs found in a text string with nothing \n",
        "    (i.e. it will remove the URL from the string).\n",
        "\n",
        "    Parameters\n",
        "    ----------\n",
        "    txt : string\n",
        "        A text string that you want to parse and remove urls.\n",
        "\n",
        "    Returns\n",
        "    -------\n",
        "    The same txt string with url's removed.\n",
        "    \"\"\"\n",
        "    url_pattern = re.compile(r'https?://\\S+|www\\.\\S+')\n",
        "    no_url = url_pattern.sub(r'', txt)\n",
        "    \n",
        "    punct_pattern = re.compile(r'[^\\w\\s]')\n",
        "    no_punct = punct_pattern.sub(r'', no_url)\n",
        "    \n",
        "    # Clean up punctuation (including pound signs)\n",
        "    return no_punct"
      ],
      "execution_count": 30,
      "outputs": []
    },
    {
      "cell_type": "code",
      "metadata": {
        "id": "AjqEBnHlCdgC",
        "colab_type": "code",
        "colab": {
          "base_uri": "https://localhost:8080/",
          "height": 35
        },
        "outputId": "df051d69-fd1f-49e0-eefd-f6ba3e592f1d"
      },
      "source": [
        "# Create custom search term and define the number of tweet\n",
        "flood_tweets[2][\"text\"]"
      ],
      "execution_count": 32,
      "outputs": [
        {
          "output_type": "execute_result",
          "data": {
            "application/vnd.google.colaboratory.intrinsic+json": {
              "type": "string"
            },
            "text/plain": [
              "'Story of my life! 😂 #boulder http://t.co/ZMfNKEl0xD'"
            ]
          },
          "metadata": {
            "tags": []
          },
          "execution_count": 32
        }
      ]
    },
    {
      "cell_type": "code",
      "metadata": {
        "id": "YdvoXKlkCwxm",
        "colab_type": "code",
        "colab": {
          "base_uri": "https://localhost:8080/",
          "height": 35
        },
        "outputId": "4d1ab5e8-bf3f-4983-eba9-431bd4cfbc51"
      },
      "source": [
        "# Remove urls\n",
        "tweets_no_urls = [remove_url_punctuation(atweet[\"text\"]) for atweet in flood_tweets]\n",
        "tweets_no_urls[2]"
      ],
      "execution_count": 33,
      "outputs": [
        {
          "output_type": "execute_result",
          "data": {
            "application/vnd.google.colaboratory.intrinsic+json": {
              "type": "string"
            },
            "text/plain": [
              "'Story of my life  boulder '"
            ]
          },
          "metadata": {
            "tags": []
          },
          "execution_count": 33
        }
      ]
    },
    {
      "cell_type": "code",
      "metadata": {
        "id": "AZxyRvgCCw31",
        "colab_type": "code",
        "colab": {
          "base_uri": "https://localhost:8080/",
          "height": 34
        },
        "outputId": "997696bc-1133-4cf7-c9ec-67ced41effec"
      },
      "source": [
        "# Creates a list of lists containing lowercase words for each tweet\n",
        "words_in_tweet = [tweet.lower().split() for tweet in tweets_no_urls]\n",
        "words_in_tweet[2]"
      ],
      "execution_count": 34,
      "outputs": [
        {
          "output_type": "execute_result",
          "data": {
            "text/plain": [
              "['story', 'of', 'my', 'life', 'boulder']"
            ]
          },
          "metadata": {
            "tags": []
          },
          "execution_count": 34
        }
      ]
    },
    {
      "cell_type": "code",
      "metadata": {
        "id": "aWB17SQ-CxEq",
        "colab_type": "code",
        "colab": {
          "base_uri": "https://localhost:8080/",
          "height": 272
        },
        "outputId": "424336ed-5e6b-47dc-c7ae-4bc4b922dd7d"
      },
      "source": [
        "# Lists of all words across tweets\n",
        "all_words_no_urls = list(itertools.chain(*words_in_tweet))\n",
        "\n",
        "# Counts each word across all tweets - notice there are still stop words\n",
        "counts_no_urls = collections.Counter(all_words_no_urls)\n",
        "counts_no_urls.most_common(15)"
      ],
      "execution_count": 35,
      "outputs": [
        {
          "output_type": "execute_result",
          "data": {
            "text/plain": [
              "[('rt', 7884),\n",
              " ('boulder', 6980),\n",
              " ('the', 6849),\n",
              " ('in', 5730),\n",
              " ('to', 5619),\n",
              " ('cowx', 5338),\n",
              " ('boulderflood', 5317),\n",
              " ('of', 4778),\n",
              " ('coflood', 4312),\n",
              " ('a', 3240),\n",
              " ('for', 3156),\n",
              " ('and', 2823),\n",
              " ('is', 2596),\n",
              " ('at', 2330),\n",
              " ('on', 2282)]"
            ]
          },
          "metadata": {
            "tags": []
          },
          "execution_count": 35
        }
      ]
    },
    {
      "cell_type": "code",
      "metadata": {
        "id": "drmhYOA3CxIS",
        "colab_type": "code",
        "colab": {
          "base_uri": "https://localhost:8080/",
          "height": 68
        },
        "outputId": "16d9a76c-0095-4e64-80a8-556e020f8aab"
      },
      "source": [
        "# Remove stop words & any other words you want to clean up\n",
        "nltk.download('stopwords')\n",
        "stop_words = set(stopwords.words('english'))\n",
        "\n",
        "# Remove stop words from each tweet list of words\n",
        "tweets_nsw = [[word for word in tweet_words if not word in stop_words]\n",
        "              for tweet_words in words_in_tweet]\n",
        "\n",
        "# Remove collection & other twitter related words (rt = retweet on twitter)\n",
        "collection_words = ['rt']\n",
        "tweets_nsw_nc = [[w for w in word if not w in collection_words]\n",
        "                 for word in tweets_nsw]\n",
        "\n",
        "tweets_nsw_nc[2]"
      ],
      "execution_count": 36,
      "outputs": [
        {
          "output_type": "stream",
          "text": [
            "[nltk_data] Downloading package stopwords to /root/nltk_data...\n",
            "[nltk_data]   Unzipping corpora/stopwords.zip.\n"
          ],
          "name": "stdout"
        },
        {
          "output_type": "execute_result",
          "data": {
            "text/plain": [
              "['story', 'life', 'boulder']"
            ]
          },
          "metadata": {
            "tags": []
          },
          "execution_count": 36
        }
      ]
    },
    {
      "cell_type": "code",
      "metadata": {
        "id": "zgWs3bm3CxL0",
        "colab_type": "code",
        "colab": {
          "base_uri": "https://localhost:8080/",
          "height": 514
        },
        "outputId": "bf23b47c-5b48-4f6e-f1de-52f69419bcd5"
      },
      "source": [
        "# Processes for word counts\n",
        "all_words_nsw = list(itertools.chain(*tweets_nsw_nc))\n",
        "\n",
        "counts_nsw = collections.Counter(all_words_nsw)\n",
        "\n",
        "clean_tweets_nsw = pd.DataFrame(counts_nsw.most_common(15),\n",
        "                             columns=['words', 'count'])\n",
        "clean_tweets_nsw"
      ],
      "execution_count": 37,
      "outputs": [
        {
          "output_type": "execute_result",
          "data": {
            "text/html": [
              "<div>\n",
              "<style scoped>\n",
              "    .dataframe tbody tr th:only-of-type {\n",
              "        vertical-align: middle;\n",
              "    }\n",
              "\n",
              "    .dataframe tbody tr th {\n",
              "        vertical-align: top;\n",
              "    }\n",
              "\n",
              "    .dataframe thead th {\n",
              "        text-align: right;\n",
              "    }\n",
              "</style>\n",
              "<table border=\"1\" class=\"dataframe\">\n",
              "  <thead>\n",
              "    <tr style=\"text-align: right;\">\n",
              "      <th></th>\n",
              "      <th>words</th>\n",
              "      <th>count</th>\n",
              "    </tr>\n",
              "  </thead>\n",
              "  <tbody>\n",
              "    <tr>\n",
              "      <th>0</th>\n",
              "      <td>boulder</td>\n",
              "      <td>6980</td>\n",
              "    </tr>\n",
              "    <tr>\n",
              "      <th>1</th>\n",
              "      <td>cowx</td>\n",
              "      <td>5338</td>\n",
              "    </tr>\n",
              "    <tr>\n",
              "      <th>2</th>\n",
              "      <td>boulderflood</td>\n",
              "      <td>5317</td>\n",
              "    </tr>\n",
              "    <tr>\n",
              "      <th>3</th>\n",
              "      <td>coflood</td>\n",
              "      <td>4312</td>\n",
              "    </tr>\n",
              "    <tr>\n",
              "      <th>4</th>\n",
              "      <td>colorado</td>\n",
              "      <td>2237</td>\n",
              "    </tr>\n",
              "    <tr>\n",
              "      <th>5</th>\n",
              "      <td>denver</td>\n",
              "      <td>1480</td>\n",
              "    </tr>\n",
              "    <tr>\n",
              "      <th>6</th>\n",
              "      <td>flood</td>\n",
              "      <td>1285</td>\n",
              "    </tr>\n",
              "    <tr>\n",
              "      <th>7</th>\n",
              "      <td>snow</td>\n",
              "      <td>1202</td>\n",
              "    </tr>\n",
              "    <tr>\n",
              "      <th>8</th>\n",
              "      <td>amp</td>\n",
              "      <td>1202</td>\n",
              "    </tr>\n",
              "    <tr>\n",
              "      <th>9</th>\n",
              "      <td>weather</td>\n",
              "      <td>1070</td>\n",
              "    </tr>\n",
              "    <tr>\n",
              "      <th>10</th>\n",
              "      <td>creek</td>\n",
              "      <td>961</td>\n",
              "    </tr>\n",
              "    <tr>\n",
              "      <th>11</th>\n",
              "      <td>water</td>\n",
              "      <td>884</td>\n",
              "    </tr>\n",
              "    <tr>\n",
              "      <th>12</th>\n",
              "      <td>rain</td>\n",
              "      <td>804</td>\n",
              "    </tr>\n",
              "    <tr>\n",
              "      <th>13</th>\n",
              "      <td>today</td>\n",
              "      <td>734</td>\n",
              "    </tr>\n",
              "    <tr>\n",
              "      <th>14</th>\n",
              "      <td>dailycamera</td>\n",
              "      <td>716</td>\n",
              "    </tr>\n",
              "  </tbody>\n",
              "</table>\n",
              "</div>"
            ],
            "text/plain": [
              "           words  count\n",
              "0        boulder   6980\n",
              "1           cowx   5338\n",
              "2   boulderflood   5317\n",
              "3        coflood   4312\n",
              "4       colorado   2237\n",
              "5         denver   1480\n",
              "6          flood   1285\n",
              "7           snow   1202\n",
              "8            amp   1202\n",
              "9        weather   1070\n",
              "10         creek    961\n",
              "11         water    884\n",
              "12          rain    804\n",
              "13         today    734\n",
              "14   dailycamera    716"
            ]
          },
          "metadata": {
            "tags": []
          },
          "execution_count": 37
        }
      ]
    },
    {
      "cell_type": "code",
      "metadata": {
        "id": "LHCE_hdICxBc",
        "colab_type": "code",
        "colab": {
          "base_uri": "https://localhost:8080/",
          "height": 513
        },
        "outputId": "b9a2be8b-d9ee-41e0-cf28-4022516af559"
      },
      "source": [
        "fig, ax = plt.subplots(figsize=(8, 8))\n",
        "\n",
        "# Plots horizontak bar graph\n",
        "clean_tweets_nsw.sort_values(by='count').plot.barh(x='words',\n",
        "                      y='count',\n",
        "                      ax=ax,\n",
        "                      color=\"purple\")\n",
        "\n",
        "ax.set_title(\"Common Words Found in Tweets (Without Stop Words)\")\n",
        "\n",
        "plt.show()"
      ],
      "execution_count": 38,
      "outputs": [
        {
          "output_type": "display_data",
          "data": {
            "image/png": "[encoded data removed]",
            "text/plain": [
              "<Figure size 576x576 with 1 Axes>"
            ]
          },
          "metadata": {
            "tags": []
          }
        }
      ]
    },
    {
      "cell_type": "code",
      "metadata": {
        "id": "z1N3MCM9Cw-h",
        "colab_type": "code",
        "colab": {
          "base_uri": "https://localhost:8080/",
          "height": 357
        },
        "outputId": "76fbd2e0-f4ed-41f1-ae44-974a38b0b40d"
      },
      "source": [
        "# Creates list of lists containing bigrams in tweets\n",
        "terms_bigram = [list(bigrams(tweet)) for tweet in tweets_nsw_nc]\n",
        "\n",
        "# Flatten list of bigrams in clean tweets\n",
        "coupled_words = list(itertools.chain(*terms_bigram))\n",
        "\n",
        "# Create counter of words in clean bigrams\n",
        "bigram_counts = collections.Counter(coupled_words)\n",
        "\n",
        "bigram_counts.most_common(20)"
      ],
      "execution_count": 39,
      "outputs": [
        {
          "output_type": "execute_result",
          "data": {
            "text/plain": [
              "[(('cowx', 'weather'), 618),\n",
              " (('boulder', 'colorado'), 457),\n",
              " (('boulder', 'creek'), 436),\n",
              " (('cowx', 'coflood'), 408),\n",
              " (('boulderflood', 'cowx'), 287),\n",
              " (('boulder', 'county'), 268),\n",
              " (('boulderflood', 'coflood'), 256),\n",
              " (('cowx', 'gjco'), 214),\n",
              " (('boulder', 'boulderflood'), 199),\n",
              " (('cowx', 'westernslope'), 192),\n",
              " (('cowx', 'denver'), 189),\n",
              " (('flash', 'flood'), 188),\n",
              " (('boulder', 'canyon'), 185),\n",
              " (('coflood', 'cowx'), 181),\n",
              " (('wall', 'water'), 179),\n",
              " (('coflood', 'boulderflood'), 164),\n",
              " (('higher', 'ground'), 163),\n",
              " (('dailycamera', 'boulder'), 156),\n",
              " (('flood', 'warning'), 149),\n",
              " (('boulder', 'co'), 144)]"
            ]
          },
          "metadata": {
            "tags": []
          },
          "execution_count": 39
        }
      ]
    },
    {
      "cell_type": "code",
      "metadata": {
        "id": "m-3AyayUCw7O",
        "colab_type": "code",
        "colab": {}
      },
      "source": [
        "# Creates a network plot of grouped terms\n",
        "bigram_df = pd.DataFrame(bigram_counts.most_common(20),\n",
        "                             columns=['bigram', 'count'])\n",
        "\n",
        "# Create dictionary of bigrams and their counts\n",
        "d = bigram_df.set_index('bigram').T.to_dict('records')\n",
        "\n",
        "# Create network plot \n",
        "G = nx.Graph()\n",
        "\n",
        "# Create connections between nodes\n",
        "for k, v in d[0].items():\n",
        "    G.add_edge(k[0], k[1], weight=(v * 10))"
      ],
      "execution_count": 40,
      "outputs": []
    },
    {
      "cell_type": "code",
      "metadata": {
        "id": "IMYylhF6DKYN",
        "colab_type": "code",
        "colab": {
          "base_uri": "https://localhost:8080/",
          "height": 469
        },
        "outputId": "5679fc1b-608a-47b6-faa0-69c615a59f88"
      },
      "source": [
        "fig, ax = plt.subplots(figsize=(12, 8))\n",
        "\n",
        "pos = nx.spring_layout(G, k=5.5)\n",
        "# Plot networks\n",
        "nx.draw_networkx(G, pos,\n",
        "                 font_size=16,\n",
        "                 width=3,\n",
        "                 edge_color='grey',\n",
        "                 node_color='purple',\n",
        "                 with_labels = False,\n",
        "                 ax=ax)\n",
        "\n",
        "# Creates offset labels\n",
        "for key, value in pos.items():\n",
        "    x, y = value[0]+.135, value[1]+.05\n",
        "    ax.text(x, y,\n",
        "            s=key,\n",
        "            bbox=dict(facecolor='red', alpha=0.25),\n",
        "            horizontalalignment='center', fontsize=14)\n",
        "    \n",
        "plt.show()"
      ],
      "execution_count": 41,
      "outputs": [
        {
          "output_type": "display_data",
          "data": {
            "image/png": "[encoded data removed]",
            "text/plain": [
              "<Figure size 864x576 with 1 Axes>"
            ]
          },
          "metadata": {
            "tags": []
          }
        }
      ]
    },
    {
      "cell_type": "code",
      "metadata": {
        "id": "clM5HRDxDKdC",
        "colab_type": "code",
        "colab": {
          "base_uri": "https://localhost:8080/",
          "height": 34
        },
        "outputId": "db1fb8b2-ef68-4aa8-da41-d6db0fc95415"
      },
      "source": [
        "# Creates textblob objects of the tweets\n",
        "sentiment_objects = [TextBlob(tweet) for tweet in tweets_no_urls]\n",
        "\n",
        "sentiment_objects[0].polarity, sentiment_objects[2]"
      ],
      "execution_count": 42,
      "outputs": [
        {
          "output_type": "execute_result",
          "data": {
            "text/plain": [
              "(-0.5, TextBlob(\"Story of my life  boulder \"))"
            ]
          },
          "metadata": {
            "tags": []
          },
          "execution_count": 42
        }
      ]
    },
    {
      "cell_type": "code",
      "metadata": {
        "id": "qaj7vihRDKhX",
        "colab_type": "code",
        "colab": {
          "base_uri": "https://localhost:8080/",
          "height": 187
        },
        "outputId": "b3431bfd-cfc1-4539-8d57-870436392c6b"
      },
      "source": [
        "# Create list of polarity values and tweet text\n",
        "sentiment_values = [[tweet.sentiment.polarity, str(tweet)] for tweet in sentiment_objects]\n",
        "\n",
        "sentiment_values[2:8]"
      ],
      "execution_count": 43,
      "outputs": [
        {
          "output_type": "execute_result",
          "data": {
            "text/plain": [
              "[[0.0, 'Story of my life  boulder '],\n",
              " [0.0,\n",
              "  'Were looking for the two who came to help a cyclist after a hitandrun at 30thBaseline 11pm Dec 23rd Boulder CO '],\n",
              " [0.3575757575757576,\n",
              "  'Happy New Year Boulder  What are some of your New Years resolutions this year'],\n",
              " [0.34545454545454546,\n",
              "  'simon_Says_so Nearly 60 degrees in Boulder today Great place to live '],\n",
              " [0.0, 'Deer boulder onlyinboulder '],\n",
              " [0.0,\n",
              "  'NWS has only bumped up tomrorows odds for snow in Denver from 30 to 40 To me it feels like it should be closer to 60 COwx weather']]"
            ]
          },
          "metadata": {
            "tags": []
          },
          "execution_count": 43
        }
      ]
    },
    {
      "cell_type": "code",
      "metadata": {
        "id": "9sEdUQx7DKgX",
        "colab_type": "code",
        "colab": {
          "base_uri": "https://localhost:8080/",
          "height": 204
        },
        "outputId": "133ecd9e-e39e-447e-d4fe-b5bae298b3f6"
      },
      "source": [
        "# Create dataframe containing the polarity value and tweet text\n",
        "sentiment_df = pd.DataFrame(sentiment_values, columns=[\"polarity\", \"tweet\"])\n",
        "\n",
        "sentiment_df.tail()"
      ],
      "execution_count": 44,
      "outputs": [
        {
          "output_type": "execute_result",
          "data": {
            "text/html": [
              "<div>\n",
              "<style scoped>\n",
              "    .dataframe tbody tr th:only-of-type {\n",
              "        vertical-align: middle;\n",
              "    }\n",
              "\n",
              "    .dataframe tbody tr th {\n",
              "        vertical-align: top;\n",
              "    }\n",
              "\n",
              "    .dataframe thead th {\n",
              "        text-align: right;\n",
              "    }\n",
              "</style>\n",
              "<table border=\"1\" class=\"dataframe\">\n",
              "  <thead>\n",
              "    <tr style=\"text-align: right;\">\n",
              "      <th></th>\n",
              "      <th>polarity</th>\n",
              "      <th>tweet</th>\n",
              "    </tr>\n",
              "  </thead>\n",
              "  <tbody>\n",
              "    <tr>\n",
              "      <th>18816</th>\n",
              "      <td>0.000</td>\n",
              "      <td>RT EricRobertson A more representative flood p...</td>\n",
              "    </tr>\n",
              "    <tr>\n",
              "      <th>18817</th>\n",
              "      <td>0.125</td>\n",
              "      <td>Warning Flash flood of boulder creek is immine...</td>\n",
              "    </tr>\n",
              "    <tr>\n",
              "      <th>18818</th>\n",
              "      <td>0.550</td>\n",
              "      <td>I just got an Emergency Alert Nice to know the...</td>\n",
              "    </tr>\n",
              "    <tr>\n",
              "      <th>18819</th>\n",
              "      <td>0.000</td>\n",
              "      <td>RT dailycamera RT CUBoulderPolice  Some floodi...</td>\n",
              "    </tr>\n",
              "    <tr>\n",
              "      <th>18820</th>\n",
              "      <td>0.000</td>\n",
              "      <td>monikarun courtneyo eatplaylove Greeblemonkey ...</td>\n",
              "    </tr>\n",
              "  </tbody>\n",
              "</table>\n",
              "</div>"
            ],
            "text/plain": [
              "       polarity                                              tweet\n",
              "18816     0.000  RT EricRobertson A more representative flood p...\n",
              "18817     0.125  Warning Flash flood of boulder creek is immine...\n",
              "18818     0.550  I just got an Emergency Alert Nice to know the...\n",
              "18819     0.000  RT dailycamera RT CUBoulderPolice  Some floodi...\n",
              "18820     0.000  monikarun courtneyo eatplaylove Greeblemonkey ..."
            ]
          },
          "metadata": {
            "tags": []
          },
          "execution_count": 44
        }
      ]
    },
    {
      "cell_type": "code",
      "metadata": {
        "id": "69ubvuBuDKTq",
        "colab_type": "code",
        "colab": {
          "base_uri": "https://localhost:8080/",
          "height": 405
        },
        "outputId": "fa3965d5-498e-4fe1-ef45-ff823587f144"
      },
      "source": [
        "fig, ax = plt.subplots(figsize=(8, 6))\n",
        "\n",
        "# Plots histogram of the polaritu values\n",
        "sentiment_df.hist(bins=[-1, -0.75, -0.5, -0.25, 0.25, 0.5, 0.75, 1],\n",
        "             ax=ax,\n",
        "             color=\"purple\")\n",
        "\n",
        "plt.title(\"Sentiments from Tweets on Climate Change\")\n",
        "plt.show()"
      ],
      "execution_count": 45,
      "outputs": [
        {
          "output_type": "display_data",
          "data": {
            "image/png": "[encoded data removed]",
            "text/plain": [
              "<Figure size 576x432 with 1 Axes>"
            ]
          },
          "metadata": {
            "tags": []
          }
        }
      ]
    },
    {
      "cell_type": "code",
      "metadata": {
        "id": "mnYPbK17DbOY",
        "colab_type": "code",
        "colab": {}
      },
      "source": [
        "# Remove polarity values equal to zero\n",
        "sentiment_df = sentiment_df[sentiment_df.polarity != 0]"
      ],
      "execution_count": 46,
      "outputs": []
    },
    {
      "cell_type": "code",
      "metadata": {
        "id": "SDJ6enbrDeu8",
        "colab_type": "code",
        "colab": {
          "base_uri": "https://localhost:8080/",
          "height": 405
        },
        "outputId": "a40806a9-54df-4e08-f2d1-d2a66ced1646"
      },
      "source": [
        "fig, ax = plt.subplots(figsize=(8, 6))\n",
        "\n",
        "# Plot histogram with break at zero\n",
        "sentiment_df.hist(bins=[-1, -0.75, -0.5, -0.25, 0.0, 0.25, 0.5, 0.75, 1],\n",
        "             ax=ax,\n",
        "             color=\"purple\")\n",
        "\n",
        "plt.title(\"Sentiments from Tweets From the 2013 Colorado Flood\")\n",
        "plt.show()"
      ],
      "execution_count": 47,
      "outputs": [
        {
          "output_type": "display_data",
          "data": {
            "image/png": "[encoded data removed]",
            "text/plain": [
              "<Figure size 576x432 with 1 Axes>"
            ]
          },
          "metadata": {
            "tags": []
          }
        }
      ]
    }
  ]
}