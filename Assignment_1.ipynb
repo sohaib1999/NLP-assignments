{
  "nbformat": 4,
  "nbformat_minor": 0,
  "metadata": {
    "colab": {
      "name": "Assignment_1",
      "provenance": [],
      "authorship_tag": "ABX9TyM/W9TthwJAMJHiNxzAi8L6",
      "include_colab_link": true
    },
    "kernelspec": {
      "name": "python3",
      "display_name": "Python 3"
    }
  },
  "cells": [
    {
      "cell_type": "markdown",
      "metadata": {
        "id": "view-in-github",
        "colab_type": "text"
      },
      "source": [
        "<a href=\"https://colab.research.google.com/github/Aman-Verma-10/NLP/blob/master/Assignment_1.ipynb\" target=\"_parent\"><img src=\"https://colab.research.google.com/assets/colab-badge.svg\" alt=\"Open In Colab\"/></a>"
      ]
    },
    {
      "cell_type": "code",
      "metadata": {
        "id": "8OCnVjpUPcxE",
        "colab_type": "code",
        "colab": {
          "base_uri": "https://localhost:8080/",
          "height": 170
        },
        "outputId": "49ed1c68-11f0-4b40-efb9-cbfe1c293356"
      },
      "source": [
        "!pip install -q wordcloud\n",
        "import wordcloud\n",
        "\n",
        "import nltk\n",
        "nltk.download('stopwords')\n",
        "nltk.download('wordnet')\n",
        "nltk.download('punkt')\n",
        "nltk.download('averaged_perceptron_tagger') \n",
        "\n",
        "import pandas as pd\n",
        "import matplotlib.pyplot as plt\n",
        "import io\n",
        "import unicodedata\n",
        "import numpy as np\n",
        "import re\n",
        "import string"
      ],
      "execution_count": 1,
      "outputs": [
        {
          "output_type": "stream",
          "text": [
            "[nltk_data] Downloading package stopwords to /root/nltk_data...\n",
            "[nltk_data]   Unzipping corpora/stopwords.zip.\n",
            "[nltk_data] Downloading package wordnet to /root/nltk_data...\n",
            "[nltk_data]   Unzipping corpora/wordnet.zip.\n",
            "[nltk_data] Downloading package punkt to /root/nltk_data...\n",
            "[nltk_data]   Unzipping tokenizers/punkt.zip.\n",
            "[nltk_data] Downloading package averaged_perceptron_tagger to\n",
            "[nltk_data]     /root/nltk_data...\n",
            "[nltk_data]   Unzipping taggers/averaged_perceptron_tagger.zip.\n"
          ],
          "name": "stdout"
        }
      ]
    },
    {
      "cell_type": "code",
      "metadata": {
        "id": "r-kmPWqrV-Qg",
        "colab_type": "code",
        "colab": {
          "base_uri": "https://localhost:8080/",
          "height": 34
        },
        "outputId": "a807bec5-f707-4f0e-995c-de9fbde23fe9"
      },
      "source": [
        "import nltk\n",
        "sentence_data = \"The First sentence is about Python. The Second sentence is about ML. You can learn Python,NLP and Data Ananlysis here. \"\n",
        "sentences = nltk.sent_tokenize(sentence_data)\n",
        "print (sentences)"
      ],
      "execution_count": 2,
      "outputs": [
        {
          "output_type": "stream",
          "text": [
            "['The First sentence is about Python.', 'The Second sentence is about ML.', 'You can learn Python,NLP and Data Ananlysis here.']\n"
          ],
          "name": "stdout"
        }
      ]
    },
    {
      "cell_type": "code",
      "metadata": {
        "id": "xK8RLMX2WJiH",
        "colab_type": "code",
        "colab": {
          "base_uri": "https://localhost:8080/",
          "height": 54
        },
        "outputId": "fe05d8ee-f3e3-42a7-82e4-080328b16979"
      },
      "source": [
        "import nltk\n",
        "from nltk.corpus import stopwords\n",
        "paragraph = \"\"\"In the broadest sense, economic development might be viewed as “any growth in real income per capita from whatever source”. Bach has described it as “growth in the total output of goods and services in the economy”. Novack has referred to a very old definition of economic growth, according to which it is “con­tinuous substantial increase in per capita consumption of goods and services”.\"\"\"\n",
        "               \n",
        "# Tokenizing\n",
        "sentences = nltk.sent_tokenize(paragraph)\n",
        "print(sentences)"
      ],
      "execution_count": 4,
      "outputs": [
        {
          "output_type": "stream",
          "text": [
            "['In the broadest sense, economic development might be viewed as “any growth in real income per capita from whatever source”.', 'Bach has described it as “growth in the total output of goods and services in the economy”.', 'Novack has referred to a very old definition of economic growth, according to which it is “con\\xadtinuous substantial increase in per capita consumption of goods and services”.']\n"
          ],
          "name": "stdout"
        }
      ]
    },
    {
      "cell_type": "code",
      "metadata": {
        "id": "di6hEcUOWoMH",
        "colab_type": "code",
        "colab": {
          "base_uri": "https://localhost:8080/",
          "height": 71
        },
        "outputId": "12561a8c-f67b-4c0f-8b6e-08e69eca2f14"
      },
      "source": [
        "import nltk\n",
        "from nltk.stem import PorterStemmer\n",
        "from nltk.corpus import stopwords\n",
        "from nltk.stem import WordNetLemmatizer\n",
        "from nltk.stem.porter import *\n",
        "\n",
        "\n",
        "paragraph = \"\"\"In the broadest sense, economic development might be viewed as “any growth in real income per capita from whatever source”. Bach has described it as “growth in the total output of goods and services in the economy”. Novack has referred to a very old definition of economic growth, according to which it is “con­tinuous substantial increase in per capita consumption of goods and services”.\"\"\"\n",
        "               \n",
        "# Tokenizing\n",
        "sentences = nltk.sent_tokenize(paragraph)\n",
        "print(len(sentences))\n",
        "lemmatizer = WordNetLemmatizer()\n",
        
        "for i in range(len(sentences)):\n",
        "\n",
        "    words = nltk.word_tokenize(sentences[i])\n",
        "    stemmer = PorterStemmer()\n",
        "    words = [stemmer.stem(word) for word in words if word not in set(stopwords.words('english'))]\n",
        "    sentences[i] = ' '.join(words) \n",
        "\n",
        "print(sentences) ;"
      ],
      "execution_count": 5,
      "outputs": [
        {
          "output_type": "stream",
          "text": [
            "3\n",
            "['In broadest sens , econom develop might view “ growth real incom per capita whatev sourc ” .', 'bach describ “ growth total output good servic economi ” .', 'novack refer old definit econom growth , accord “ con\\xadtinu substanti increas per capita consumpt good servic ” .']\n"
          ],
          "name": "stdout"
        }
      ]
    },
    {
      "cell_type": "code",
      "metadata": {
        "id": "A8fU6MidWv3Q",
        "colab_type": "code",
        "colab": {
          "base_uri": "https://localhost:8080/",
          "height": 71
        },
        "outputId": "7f3d9265-30c0-4958-8af2-10067f47ce88"
      },
      "source": [
        "import nltk\n",
        "from nltk.stem import PorterStemmer\n",
        "from nltk.corpus import stopwords\n",
        "from nltk.stem import WordNetLemmatizer\n",
        "\n",
        "\n",
        "paragraph =\"\"\"In the broadest sense, economic development might be viewed as “any growth in real income per capita from whatever source”. Bach has described it as “growth in the total output of goods and services in the economy”. Novack has referred to a very old definition of economic growth, according to which it is “con­tinuous substantial increase in per capita consumption of goods and services”.\"\"\"\n",
        "               \n",
        "# Tokenizing ",
        "sentences = nltk.sent_tokenize(paragraph)\n",
        "print(len(sentences))\n",
        "lemmatizer = WordNetLemmatizer()\n",
        
        "for i in range(len(sentences)):\n",
        "    words = nltk.word_tokenize(sentences[i])\n",
        "    words = [lemmatizer.lemmatize(word) for word in words if word not in set(stopwords.words('english'))]\n",
        "    sentences[i] = ' '.join(words) \n",
        "\n",
        "print(sentences) ;"
      ],
      "execution_count": 6,
      "outputs": [
        {
          "output_type": "stream",
          "text": [
            "3\n",
            "['In broadest sense , economic development might viewed “ growth real income per caput whatever source ” .', 'Bach described “ growth total output good service economy ” .', 'Novack referred old definition economic growth , according “ con\\xadtinuous substantial increase per caput consumption good service ” .']\n"
          ],
          "name": "stdout"
        }
      ]
    },
    {
      "cell_type": "code",
      "metadata": {
        "id": "A9iZVHeGW3MH",
        "colab_type": "code",
        "colab": {
          "base_uri": "https://localhost:8080/",
          "height": 170
        },
        "outputId": "92c41cea-bfff-42b1-a0be-146b4c85cf9b"
      },
      "source": [
        "import nltk\n",
        "nltk.download('stopwords')\n",
        "nltk.download('wordnet')\n",
        "nltk.download('punkt')\n",
        "from nltk.tokenize import word_tokenize\n",
        "from nltk.corpus import stopwords\n",
        "text = \"NLP is a pragmatic school of thought - an 'epistemology' - that addresses the many levels involved in being human.\"\n",
        "print(text)\n",
        "print(word_tokenize(text))\n",
        "sentences = nltk.sent_tokenize(text)\n",
        "print (sentences)"
      ],
      "execution_count": 7,
      "outputs": [
        {
          "output_type": "stream",
          "text": [
            "[nltk_data] Downloading package stopwords to /root/nltk_data...\n",
            "[nltk_data]   Package stopwords is already up-to-date!\n",
            "[nltk_data] Downloading package wordnet to /root/nltk_data...\n",
            "[nltk_data]   Package wordnet is already up-to-date!\n",
            "[nltk_data] Downloading package punkt to /root/nltk_data...\n",
            "[nltk_data]   Package punkt is already up-to-date!\n",
            "NLP is a pragmatic school of thought - an 'epistemology' - that addresses the many levels involved in being human.\n",
            "['NLP', 'is', 'a', 'pragmatic', 'school', 'of', 'thought', '-', 'an', \"'epistemology\", \"'\", '-', 'that', 'addresses', 'the', 'many', 'levels', 'involved', 'in', 'being', 'human', '.']\n",
            "[\"NLP is a pragmatic school of thought - an 'epistemology' - that addresses the many levels involved in being human.\"]\n"
          ],
          "name": "stdout"
        }
      ]
    },
    {
      "cell_type": "code",
      "metadata": {
        "id": "xcnldkmyXGgW",
        "colab_type": "code",
        "colab": {
          "base_uri": "https://localhost:8080/",
          "height": 51
        },
        "outputId": "a0cb4bf1-f1b7-4a7a-99e2-8e4aad0926b2"
      },
      "source": [
        "import nltk\n",
        "from nltk.tokenize import word_tokenize\n",
        "from nltk.corpus import stopwords\n",
        "stop_words = set(stopwords.words('english'))\n",
        "words = nltk.word_tokenize(text)\n",
        "output_sentence = [w for w in words if not w in stop_words]\n",
        "output_sentence = []\n",
        "for w in words:\n",
        "    if w not in stop_words:\n",
        "        output_sentence.append(w)\n",
        "print(words)\n",
        "print(output_sentence)"
      ],
      "execution_count": 8,
      "outputs": [
        {
          "output_type": "stream",
          "text": [
            "['NLP', 'is', 'a', 'pragmatic', 'school', 'of', 'thought', '-', 'an', \"'epistemology\", \"'\", '-', 'that', 'addresses', 'the', 'many', 'levels', 'involved', 'in', 'being', 'human', '.']\n",
            "['NLP', 'pragmatic', 'school', 'thought', '-', \"'epistemology\", \"'\", '-', 'addresses', 'many', 'levels', 'involved', 'human', '.']\n"
          ],
          "name": "stdout"
        }
      ]
    },
    {
      "cell_type": "code",
      "metadata": {
        "id": "1R9_LohTXNEH",
        "colab_type": "code",
        "colab": {
          "base_uri": "https://localhost:8080/",
          "height": 71
        },
        "outputId": "f192484a-1edc-45fb-8c4e-57f02a4f4178"
      },
      "source": [
        "from nltk.stem import PorterStemmer\n",
        "paragraph = \"\"\"In the broadest sense, economic development might be viewed as “any growth in real income per capita from whatever source”. Bach has described it as “growth in the total output of goods and services in the economy”. Novack has referred to a very old definition of economic growth, according to which it is “con­tinuous substantial increase in per capita consumption of goods and services”.\"\"\"\n",
        "# Tokenizing ; Length\n",
        "sentences = nltk.sent_tokenize(paragraph)\n",
        "print(len(sentences))\n",
        "\n",
        
        "for i in range(len(sentences)):\n",
        "    words = nltk.word_tokenize(sentences[i])\n",
        "    stemmer = PorterStemmer()\n",
        "    words = [stemmer.stem(word) for word in words if word not in set(stopwords.words('english'))]\n",
        "    sentences[i] = ' '.join(words) \n",
        "\n",
        "print(sentences) ;"
      ],
      "execution_count": 9,
      "outputs": [
        {
          "output_type": "stream",
          "text": [
            "3\n",
            "['In broadest sens , econom develop might view “ growth real incom per capita whatev sourc ” .', 'bach describ “ growth total output good servic economi ” .', 'novack refer old definit econom growth , accord “ con\\xadtinu substanti increas per capita consumpt good servic ” .']\n"
          ],
          "name": "stdout"
        }
      ]
    },
    {
      "cell_type": "code",
      "metadata": {
        "id": "yoW4XltTXUrX",
        "colab_type": "code",
        "colab": {
          "base_uri": "https://localhost:8080/",
          "height": 71
        },
        "outputId": "dce2cf5c-da0c-4710-fc4b-690bc3068021"
      },
      "source": [
        "from nltk.tokenize import WhitespaceTokenizer\n",
        "sentence_info = \"\"\"In the broadest sense, economic development might be viewed as “any growth in real income per capita from whatever source”. Bach has described it as “growth in the total output of goods and services in the economy”. Novack has referred to a very old definition of economic growth, according to which it is “con­tinuous substantial increase in per capita consumption of goods and services”.\"\"\"\n",
        "#Tokenizing whitespace\n",
        "token=WhitespaceTokenizer()\n",
        "output=token.tokenize(sentence_info)\n",
        "print(output)\n",
        "print(len(output))"
      ],
      "execution_count": 10,
      "outputs": [
        {
          "output_type": "stream",
          "text": [
            "['In', 'the', 'broadest', 'sense,', 'economic', 'development', 'might', 'be', 'viewed', 'as', '“any', 'growth', 'in', 'real', 'income', 'per', 'capita', 'from', 'whatever', 'source”.', 'Bach', 'has', 'described', 'it', 'as', '“growth', 'in', 'the', 'total', 'output', 'of', 'goods', 'and', 'services', 'in', 'the', 'economy”.', 'Novack', 'has', 'referred', 'to', 'a', 'very', 'old', 'definition', 'of', 'economic', 'growth,', 'according', 'to', 'which', 'it', 'is', '“con\\xadtinuous', 'substantial', 'increase', 'in', 'per', 'capita', 'consumption', 'of', 'goods', 'and', 'services”.']\n",
            "64\n"
          ],
          "name": "stdout"
        }
      ]
    },
    {
      "cell_type": "code",
      "metadata": {
        "id": "2HcpRscQXb91",
        "colab_type": "code",
        "colab": {
          "base_uri": "https://localhost:8080/",
          "height": 71
        },
        "outputId": "6f6e8a52-0965-4ace-d557-7ef03e5aee29"
      },
      "source": [
        "from nltk.tokenize import WordPunctTokenizer\n",
        "sentence_info = \"\"\"In the broadest sense, economic development might be viewed as “any growth in real income per capita from whatever source”. Bach has described it as “growth in the total output of goods and services in the economy”. Novack has referred to a very old definition of economic growth, according to which it is “con­tinuous substantial increase in per capita consumption of goods and services”.\"\"\"\n",
        "#WordPunTokenizer\n",
        "token=WordPunctTokenizer()\n",
        "output=token.tokenize(sentence_info)\n",
        "print(output)\n",
        "print(len(output))"
      ],
      "execution_count": 11,
      "outputs": [
        {
          "output_type": "stream",
          "text": [
            "['In', 'the', 'broadest', 'sense', ',', 'economic', 'development', 'might', 'be', 'viewed', 'as', '“', 'any', 'growth', 'in', 'real', 'income', 'per', 'capita', 'from', 'whatever', 'source', '”.', 'Bach', 'has', 'described', 'it', 'as', '“', 'growth', 'in', 'the', 'total', 'output', 'of', 'goods', 'and', 'services', 'in', 'the', 'economy', '”.', 'Novack', 'has', 'referred', 'to', 'a', 'very', 'old', 'definition', 'of', 'economic', 'growth', ',', 'according', 'to', 'which', 'it', 'is', '“', 'con', '\\xad', 'tinuous', 'substantial', 'increase', 'in', 'per', 'capita', 'consumption', 'of', 'goods', 'and', 'services', '”.']\n",
            "74\n"
          ],
          "name": "stdout"
        }
      ]
    },
    {
      "cell_type": "code",
      "metadata": {
        "id": "f4WfPvf3XkXP",
        "colab_type": "code",
        "colab": {
          "base_uri": "https://localhost:8080/",
          "height": 71
        },
        "outputId": "54364096-6692-46e7-aefa-ca2ceccead55"
      },
      "source": [
        "from nltk.tokenize import TreebankWordTokenizer\n",
        "sentence_info = \"\"\"In the broadest sense, economic development might be viewed as “any growth in real income per capita from whatever source”. Bach has described it as “growth in the total output of goods and services in the economy”. Novack has referred to a very old definition of economic growth, according to which it is “con­tinuous substantial increase in per capita consumption of goods and services”.\"\"\"\n",
        "#TreeTokenizer\n",
        "token=TreebankWordTokenizer()\n",
        "output=token.tokenize(sentence_info)\n",
        "print(output)\n",
        "print(len(output))"
      ],
      "execution_count": 12,
      "outputs": [
        {
          "output_type": "stream",
          "text": [
            "['In', 'the', 'broadest', 'sense', ',', 'economic', 'development', 'might', 'be', 'viewed', 'as', '“', 'any', 'growth', 'in', 'real', 'income', 'per', 'capita', 'from', 'whatever', 'source', '”', '.', 'Bach', 'has', 'described', 'it', 'as', '“', 'growth', 'in', 'the', 'total', 'output', 'of', 'goods', 'and', 'services', 'in', 'the', 'economy', '”', '.', 'Novack', 'has', 'referred', 'to', 'a', 'very', 'old', 'definition', 'of', 'economic', 'growth', ',', 'according', 'to', 'which', 'it', 'is', '“', 'con\\xadtinuous', 'substantial', 'increase', 'in', 'per', 'capita', 'consumption', 'of', 'goods', 'and', 'services', '”', '.']\n",
            "75\n"
          ],
          "name": "stdout"
        }
      ]
    }
  ]
}